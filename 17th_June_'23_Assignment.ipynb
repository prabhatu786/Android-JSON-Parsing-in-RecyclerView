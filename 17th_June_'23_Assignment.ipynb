{
  "cells": [
    {
      "cell_type": "markdown",
      "metadata": {
        "id": "view-in-github",
        "colab_type": "text"
      },
      "source": [
        "<a href=\"https://colab.research.google.com/github/prabhatu786/Android-JSON-Parsing-in-RecyclerView/blob/master/17th_June_'23_Assignment.ipynb\" target=\"_parent\"><img src=\"https://colab.research.google.com/assets/colab-badge.svg\" alt=\"Open In Colab\"/></a>"
      ]
    },
    {
      "cell_type": "markdown",
      "metadata": {
        "id": "TodXAZkdnRch"
      },
      "source": [
        " ## 1. What is the role of try and exception block?\n",
        " Answer:\n",
        "The try block lets you test a block of code for errors.\n",
        "The except block lets you handle the error.\n",
        "\n",
        "\n"
      ]
    },
    {
      "cell_type": "markdown",
      "metadata": {
        "id": "OAdWrMnInRck"
      },
      "source": []
    },
    {
      "cell_type": "markdown",
      "metadata": {
        "id": "DnJ-laDSnRck"
      },
      "source": [
        "##  2. What is the syntax for a basic try-except block?\n",
        "Answer:\n",
        "the syntax fro a try-except blockgiven below\n"
      ]
    },
    {
      "cell_type": "code",
      "execution_count": null,
      "metadata": {
        "id": "5fYPltpYnRcl",
        "outputId": "f78bf7c9-9d29-477f-8027-9dcec9f00942"
      },
      "outputs": [
        {
          "name": "stdout",
          "output_type": "stream",
          "text": [
            "code block\n"
          ]
        }
      ],
      "source": [
        "try:\n",
        "    print('code block')\n",
        "except:\n",
        "    print('Error handel block')\n"
      ]
    },
    {
      "cell_type": "markdown",
      "metadata": {
        "id": "BYnPyzgfnRcn"
      },
      "source": [
        "## 3. What happens if an exception occurs inside a try block and there is no matching except block?\n",
        "Answer:\n",
        "If any exception occurs, the try clause will be skipped and except clause will run."
      ]
    },
    {
      "cell_type": "markdown",
      "metadata": {
        "id": "gGb3aKFEnRcn"
      },
      "source": [
        "## 4. What is the difference between using a bare except block and specifying a specific exception type?\n",
        "Answer:\n",
        "\n",
        "Bare except:bare except also catches all exceptions, including exceptions that we generally don't want, such as SystemExit or KeyboardInterrupt .\n",
        "\n",
        "Specific exception: When specifying exception types in the except clauses, you place the most specific to least specific exceptions from top to bottom. It's important to note that the except order matters because Python will run the first except clause whose exception type matches the occurred exception.\n",
        "\n"
      ]
    },
    {
      "cell_type": "markdown",
      "metadata": {
        "id": "yRbeI3EUnRcn"
      },
      "source": [
        "## 5. Can you have nested try-except blocks in Python? If yes, then give an example.\n",
        "Answer:\n",
        "Yes, we can declare a try-catch block within another try-catch block, this is called nested try-catch block.\n"
      ]
    },
    {
      "cell_type": "code",
      "execution_count": null,
      "metadata": {
        "id": "uK4olOqdnRco",
        "outputId": "59cc1282-edf1-4dd4-ca55-9fdc0da8b68c"
      },
      "outputs": [
        {
          "name": "stdout",
          "output_type": "stream",
          "text": [
            "outer try block\n",
            "nested try block\n",
            "outer except block\n",
            "division by zero\n"
          ]
        }
      ],
      "source": [
        "x = 10\n",
        "y = 0\n",
        "\n",
        "try:\n",
        "    print(\"outer try block\")\n",
        "    try:\n",
        "        print(\"nested try block\")\n",
        "        print(x / y)\n",
        "    except TypeError as te:\n",
        "        print(\"nested except block\")\n",
        "        print(te)\n",
        "except ZeroDivisionError as ze:\n",
        "    print(\"outer except block\")\n",
        "    print(ze)\n"
      ]
    },
    {
      "cell_type": "markdown",
      "metadata": {
        "id": "noxRhePGnRco"
      },
      "source": [
        "## 6. Can we use multiple exception blocks, if yes then give an example.\n"
      ]
    },
    {
      "cell_type": "code",
      "execution_count": null,
      "metadata": {
        "id": "vzekHBqjnRco",
        "outputId": "9b2b91b9-c2c9-4d3d-b3dd-fa06014ff6e7"
      },
      "outputs": [
        {
          "name": "stdout",
          "output_type": "stream",
          "text": [
            "NameError occurred: name 'x1' is not defined\n"
          ]
        }
      ],
      "source": [
        "    x=int(input())\n",
        "    y=int(input())\n",
        "    try:\n",
        "        print(f'{x}/{y} is {x1 / y}')\n",
        "    except ZeroDivisionError as e:\n",
        "        print(\"ZeroDivisionError occurred:\", e)\n",
        "    except NameError as e:\n",
        "        print(\"NameError occurred:\", e)\n",
        "    except TypeError as e:\n",
        "        print(\"TypeError occurred:\", e)\n",
        "    except ValueError as e:\n",
        "        print(\"ValueError occurred:\", e)\n",
        "\n"
      ]
    },
    {
      "cell_type": "markdown",
      "metadata": {
        "id": "1B87J-02nRcp"
      },
      "source": [
        "## 7. Write the reason due to which following errors are raised:\n",
        "\n",
        "### a. EOFError\n",
        "\n",
        "### b. FloatingPointError\n",
        "\n",
        "### c. IndexError\n",
        "\n",
        "### d. MemoryError\n",
        "\n",
        "### e. OverflowError\n",
        "\n",
        "### f. TabError\n",
        "\n",
        "### g. ValueError"
      ]
    },
    {
      "cell_type": "markdown",
      "metadata": {
        "id": "PYvcqAMPnRcp"
      },
      "source": [
        "A)EOFError-\n",
        "EOFError is short for \"End-of-Line Error.\" This error occurs when Python has reached the end of user input without receiving any input. The reason that EOFError occurs is that Python attempts to print out your input in variable string when no data is given\n",
        "\n",
        "B) FloatingPointError-\n",
        "It’s a problem caused when the internal representation of floating-point numbers, which uses a fixed number of binary digits to represent a decimal number. It is difficult to represent some decimal number in binary, so in many cases, it leads to small roundoff errors.\n",
        "\n",
        "C) IndexError-\n",
        "When you access an index, on a sequence, that is out of range, you get an IndexError.\n",
        "\n",
        "D)MemoryError-\n",
        "This raises when an operation runs out of memory.\n",
        "\n",
        "E)OverflowError-\n",
        "This raises when the result of an arithmetic operation is too large to be represented.\n",
        "\n",
        "F) TabError-\n",
        "When the indentation is inconsistent in tabs and spaces, there’s a TabError.\n",
        "\n",
        "G) ValueError-\n",
        "You get a ValueError when you send in an argument of the correct type, but an improper value.\n",
        "\n",
        "\n",
        "\n",
        "\n"
      ]
    },
    {
      "cell_type": "markdown",
      "metadata": {
        "id": "8YIWLiemnRcq"
      },
      "source": [
        "##  8. Write code for the following given scenario and add try-exception block to it.\n"
      ]
    },
    {
      "cell_type": "code",
      "execution_count": null,
      "metadata": {
        "id": "EFk2wH6XnRcq",
        "outputId": "3ec228cc-8d65-41e0-a277-d5b4f2655f70"
      },
      "outputs": [
        {
          "name": "stdout",
          "output_type": "stream",
          "text": [
            "num1 divide by num2=1.0\n"
          ]
        }
      ],
      "source": [
        "# a.Program to divide two numbers\n",
        "try:\n",
        "    num1=int(input(\"Enter first number\"))\n",
        "    num2=int(input(\"Enter first number\"))\n",
        "    divide=num1/num2\n",
        "    print(f\"num1 divide by num2={divide}\")\n",
        "\n",
        "except ValueError:\n",
        "    print(\"ValueError is raised pass only integer value\")\n"
      ]
    },
    {
      "cell_type": "code",
      "execution_count": null,
      "metadata": {
        "id": "46NSxnOsnRcq",
        "outputId": "0cd62726-363d-4868-85e2-7b159530fdb7"
      },
      "outputs": [
        {
          "name": "stdout",
          "output_type": "stream",
          "text": [
            "1234\n"
          ]
        }
      ],
      "source": [
        "#b. Program to convert a string to an integer\n",
        "string = str(input(\"Enter the string for converting to an integer\"))\n",
        "try:\n",
        "    string_int = int(string)\n",
        "    print(string_int)\n",
        "except ValueError:\n",
        "    print('Please enter an integer')\n"
      ]
    },
    {
      "cell_type": "code",
      "execution_count": null,
      "metadata": {
        "id": "7l-DrM2LnRcr",
        "outputId": "078c3668-055c-4bad-f677-7ed80b4c07f4"
      },
      "outputs": [
        {
          "name": "stdout",
          "output_type": "stream",
          "text": [
            "124567891011121314151617181920"
          ]
        }
      ],
      "source": [
        "#c. Program to access an element in a list\n",
        "list1=[1,2,4,5,6,7,8,9,10,11,12,13,14,15,16,17,18,19,20]\n",
        "try:\n",
        "    for i in list1:\n",
        "        print(i,end=\"\")\n",
        "except Exception as e:\n",
        "    print(\"Error:\",e)\n"
      ]
    },
    {
      "cell_type": "code",
      "execution_count": null,
      "metadata": {
        "id": "KZelkJDwnRcr",
        "outputId": "6ae6d5eb-d1a8-41e4-efba-f8f4e8909231"
      },
      "outputs": [
        {
          "name": "stdout",
          "output_type": "stream",
          "text": [
            "num1 divide by num2=0.9433962264150944\n"
          ]
        }
      ],
      "source": [
        "#d. Program to handle a specific exception\n",
        "num1=float(input(\"Enter first number\"))\n",
        "num2=float(input(\"Enter first number\"))\n",
        "try:\n",
        "   divide=num1/num2\n",
        "   print(f\"num1 divide by num2={divide}\")\n",
        "except ValueError as e:\n",
        "      print(\"ValueError occurred:\", e)\n",
        "except ZeroDivisionError as e:\n",
        "      print(\"ZeroDivisionError occurred:\", e)\n",
        "except NameError as e:\n",
        "      print(\"NameError occurred:\", e)\n",
        "except TypeError as e:\n",
        "      print(\"TypeError occurred:\", e)\n"
      ]
    },
    {
      "cell_type": "code",
      "execution_count": 1,
      "metadata": {
        "colab": {
          "base_uri": "https://localhost:8080/"
        },
        "id": "uFmXhj_FnRcr",
        "outputId": "a763f261-b088-424c-bc5e-e9ecddabd5ea"
      },
      "outputs": [
        {
          "output_type": "stream",
          "name": "stdout",
          "text": [
            "Second element = 2\n",
            "Error occurred\n"
          ]
        }
      ],
      "source": [
        "# e. Program to handle any exception\n",
        "a = [1, 2, 3]\n",
        "try:\n",
        "\tprint (\"Second element = %d\" %(a[1]))\n",
        "\tprint (\"Fourth element = %d\" %(a[3]))\n",
        "\n",
        "except:\n",
        "\tprint (\"Error occurred\")\n"
      ]
    },
    {
      "cell_type": "markdown",
      "metadata": {
        "id": "W4qN005CnRcs"
      },
      "source": [
        "#"
      ]
    }
  ],
  "metadata": {
    "kernelspec": {
      "display_name": "base",
      "language": "python",
      "name": "python3"
    },
    "language_info": {
      "codemirror_mode": {
        "name": "ipython",
        "version": 3
      },
      "file_extension": ".py",
      "mimetype": "text/x-python",
      "name": "python",
      "nbconvert_exporter": "python",
      "pygments_lexer": "ipython3",
      "version": "3.11.3"
    },
    "orig_nbformat": 4,
    "colab": {
      "provenance": [],
      "include_colab_link": true
    }
  },
  "nbformat": 4,
  "nbformat_minor": 0
}